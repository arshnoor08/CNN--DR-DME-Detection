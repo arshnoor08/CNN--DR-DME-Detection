{
  "nbformat": 4,
  "nbformat_minor": 0,
  "metadata": {
    "accelerator": "GPU",
    "colab": {
      "provenance": [],
      "include_colab_link": true
    },
    "kernelspec": {
      "display_name": "Python 3",
      "name": "python3"
    },
    "language_info": {
      "name": "python"
    }
  },
  "cells": [
    {
      "cell_type": "markdown",
      "metadata": {
        "id": "view-in-github",
        "colab_type": "text"
      },
      "source": [
        "<a href=\"https://colab.research.google.com/github/arshnoor08/CNN--DR-DME-Detection/blob/main/Copy_of_Diabetic_Retinopathy_Detection_Personal.ipynb\" target=\"_parent\"><img src=\"https://colab.research.google.com/assets/colab-badge.svg\" alt=\"Open In Colab\"/></a>"
      ]
    },
    {
      "cell_type": "code",
      "metadata": {
        "colab": {
          "base_uri": "https://localhost:8080/"
        },
        "id": "WSYoOoliGuHl",
        "outputId": "723d0508-e44e-42c7-a7b5-cd501b5ff94b"
      },
      "source": [
        "from google.colab import drive\n",
        "drive.mount('/content/gdrive')"
      ],
      "execution_count": null,
      "outputs": [
        {
          "output_type": "stream",
          "name": "stdout",
          "text": [
            "Mounted at /content/gdrive\n"
          ]
        }
      ]
    },
    {
      "cell_type": "code",
      "metadata": {
        "id": "kpDgAEpmHSu6"
      },
      "source": [
        "!unzip gdrive/My\\ Drive/Dataset_DR.zip"
      ],
      "execution_count": null,
      "outputs": []
    },
    {
      "cell_type": "code",
      "metadata": {
        "id": "vfTMCIjrEIpC"
      },
      "source": [
        "#imports necessary libraries\n",
        "import numpy as np\n",
        "import matplotlib.pyplot as plt\n",
        "import pandas as pd\n",
        "import pathlib\n",
        "from keras.applications.inception_resnet_v2 import *\n",
        "import tensorflow as tf\n",
        "from keras.models import Sequential\n",
        "from keras.layers import Activation, Dense, GlobalAveragePooling1D, GlobalAveragePooling2D, Dropout, Flatten, Conv2D, MaxPool2D\n",
        "from keras.preprocessing.image import load_img, ImageDataGenerator\n",
        "from PIL import Image\n",
        "from os import listdir\n",
        "import tensorflow as tf\n",
        "from tensorflow.keras.layers import BatchNormalization\n",
        "from keras.models import Model\n",
        "# from keras.optimizers import Adam\n",
        "from keras.callbacks import ModelCheckpoint, EarlyStopping\n",
        "from sklearn.svm import SVC"
      ],
      "execution_count": null,
      "outputs": []
    },
    {
      "cell_type": "code",
      "metadata": {
        "id": "LjrK6d8DF6YT"
      },
      "source": [
        "def loadImages(path):\n",
        "    # returns array of images from file path\n",
        "\n",
        "    imagesList = sorted(listdir(path))\n",
        "    loadedImages = []\n",
        "    for image in imagesList:\n",
        "      img = Image.open(path + image)\n",
        "      img = img.resize([299, 299])\n",
        "      loadedImages.append(np.asarray(img))\n",
        "\n",
        "    return loadedImages\n",
        "\n",
        "#stores training images in X_train, test images in X_test, training labels in y_train and test labels in y_test\n",
        "X_train = loadImages('/content/B. Disease Grading/1. Original Images/a. Training Set/')\n",
        "X_test = loadImages('/content/B. Disease Grading/1. Original Images/b. Testing Set/')\n",
        "y_train = pd.read_csv('/content/B. Disease Grading/2. Groundtruths/a. IDRiD_Disease Grading_Training Labels.csv')\n",
        "y_test =  pd.read_csv('/content/B. Disease Grading/2. Groundtruths/b. IDRiD_Disease Grading_Testing Labels.csv')"
      ],
      "execution_count": null,
      "outputs": []
    },
    {
      "cell_type": "code",
      "metadata": {
        "id": "F8wvmwB4UOiC"
      },
      "source": [
        "#prints 5 images with corresponding values of Retinopathy Grade and Risk of macular edema\n",
        "for i in range(5):\n",
        "  plt.imshow(X_train[i])\n",
        "  print(\"\")\n",
        "  print((np.array(y_train))[i][0])\n",
        "  print(\"Retinopathy Grade: \", (np.array(y_train))[i][1])\n",
        "  print(\"Risk of macular edema: \", (np.array(y_train))[i][2])\n",
        "  plt.show()"
      ],
      "execution_count": null,
      "outputs": []
    },
    {
      "cell_type": "code",
      "metadata": {
        "id": "2LFTwBR6IiS2",
        "colab": {
          "base_uri": "https://localhost:8080/",
          "height": 295
        },
        "outputId": "10f26b10-b7e7-4067-9abd-70d64f6ae00d"
      },
      "source": [
        "#creates empty lists\n",
        "DR_array = []\n",
        "DME_array = []\n",
        "unique_values_array_DR = []\n",
        "unique_values_array_DME = []\n",
        "\n",
        "#stores classes for DR and DME\n",
        "DR_array_Index = [0, 1, 2, 3, 4]\n",
        "DME_array_Index = [0, 1, 2, 3]\n",
        "\n",
        "#stores the values of DR and DME from y_train in lists\n",
        "for item in np.array(y_train):\n",
        "  DR_array.append(item[1])\n",
        "  DME_array.append(item[2])\n",
        "\n",
        "#counts the number of values for each class for DR and DME\n",
        "unique_values_DR = pd.Index(DR_array).value_counts()\n",
        "unique_values_DME = pd.Index(DME_array).value_counts()\n",
        "\n",
        "#creates series with values counted above for DR and DME\n",
        "for i in range(5):\n",
        "  unique_values_array_DR.append(pd.Series(unique_values_DR)[i])\n",
        "\n",
        "for i in range(3):\n",
        "  unique_values_array_DME.append(pd.Series(unique_values_DME)[i])\n",
        "\n",
        "#adds 2 0's at the end of the DME series to match it's size with DR\n",
        "for i in range(2):\n",
        "  unique_values_array_DME.append(0)\n",
        "\n",
        "#plots a bar graph for the number of occurences of each severity level in the dataset\n",
        "X_axis = np.arange(5)\n",
        "plt.bar(X_axis-0.2, unique_values_array_DR, 0.4, label = \"Retinopathy Grade\")\n",
        "plt.bar(X_axis+0.2, unique_values_array_DME, 0.4, label = \"Risk of macular edema\")\n",
        "plt.xticks(X_axis, DR_array_Index)\n",
        "plt.xlabel(\"Levels of severity of DR and DME\")\n",
        "plt.ylabel(\"Number of occurences\")\n",
        "plt.title(\"Number of occurences of each severity level in dataset\")\n",
        "plt.legend()\n",
        "plt.show()"
      ],
      "execution_count": null,
      "outputs": [
        {
          "output_type": "display_data",
          "data": {
            "image/png": "[encoded data removed]",
            "text/plain": [
              "<Figure size 432x288 with 1 Axes>"
            ]
          },
          "metadata": {
            "needs_background": "light"
          }
        }
      ]
    },
    {
      "cell_type": "code",
      "metadata": {
        "id": "_tHAplOBSRBs",
        "colab": {
          "base_uri": "https://localhost:8080/"
        },
        "outputId": "17f78dfb-4aa8-446c-979a-f7e552d212ab"
      },
      "source": [
        "#gets all the file names for the train images\n",
        "fileNames_train = []\n",
        "for item in np.array(y_train):\n",
        "  fileNames_train.append(item[0] + \".jpg\")\n",
        "print(fileNames_train)"
      ],
      "execution_count": null,
      "outputs": [
        {
          "output_type": "stream",
          "name": "stdout",
          "text": [
            "['IDRiD_001.jpg', 'IDRiD_002.jpg', 'IDRiD_003.jpg', 'IDRiD_004.jpg', 'IDRiD_005.jpg', 'IDRiD_006.jpg', 'IDRiD_007.jpg', 'IDRiD_008.jpg', 'IDRiD_009.jpg', 'IDRiD_010.jpg', 'IDRiD_011.jpg', 'IDRiD_012.jpg', 'IDRiD_013.jpg', 'IDRiD_014.jpg', 'IDRiD_015.jpg', 'IDRiD_016.jpg', 'IDRiD_017.jpg', 'IDRiD_018.jpg', 'IDRiD_019.jpg', 'IDRiD_020.jpg', 'IDRiD_021.jpg', 'IDRiD_022.jpg', 'IDRiD_023.jpg', 'IDRiD_024.jpg', 'IDRiD_025.jpg', 'IDRiD_026.jpg', 'IDRiD_027.jpg', 'IDRiD_028.jpg', 'IDRiD_029.jpg', 'IDRiD_030.jpg', 'IDRiD_031.jpg', 'IDRiD_032.jpg', 'IDRiD_033.jpg', 'IDRiD_034.jpg', 'IDRiD_035.jpg', 'IDRiD_036.jpg', 'IDRiD_037.jpg', 'IDRiD_038.jpg', 'IDRiD_039.jpg', 'IDRiD_040.jpg', 'IDRiD_041.jpg', 'IDRiD_042.jpg', 'IDRiD_043.jpg', 'IDRiD_044.jpg', 'IDRiD_045.jpg', 'IDRiD_046.jpg', 'IDRiD_047.jpg', 'IDRiD_048.jpg', 'IDRiD_049.jpg', 'IDRiD_050.jpg', 'IDRiD_051.jpg', 'IDRiD_052.jpg', 'IDRiD_053.jpg', 'IDRiD_054.jpg', 'IDRiD_055.jpg', 'IDRiD_056.jpg', 'IDRiD_057.jpg', 'IDRiD_058.jpg', 'IDRiD_059.jpg', 'IDRiD_060.jpg', 'IDRiD_061.jpg', 'IDRiD_062.jpg', 'IDRiD_063.jpg', 'IDRiD_064.jpg', 'IDRiD_065.jpg', 'IDRiD_066.jpg', 'IDRiD_067.jpg', 'IDRiD_068.jpg', 'IDRiD_069.jpg', 'IDRiD_070.jpg', 'IDRiD_071.jpg', 'IDRiD_072.jpg', 'IDRiD_073.jpg', 'IDRiD_074.jpg', 'IDRiD_075.jpg', 'IDRiD_076.jpg', 'IDRiD_077.jpg', 'IDRiD_078.jpg', 'IDRiD_079.jpg', 'IDRiD_080.jpg', 'IDRiD_081.jpg', 'IDRiD_082.jpg', 'IDRiD_083.jpg', 'IDRiD_084.jpg', 'IDRiD_085.jpg', 'IDRiD_086.jpg', 'IDRiD_087.jpg', 'IDRiD_088.jpg', 'IDRiD_089.jpg', 'IDRiD_090.jpg', 'IDRiD_091.jpg', 'IDRiD_092.jpg', 'IDRiD_093.jpg', 'IDRiD_094.jpg', 'IDRiD_095.jpg', 'IDRiD_096.jpg', 'IDRiD_097.jpg', 'IDRiD_098.jpg', 'IDRiD_099.jpg', 'IDRiD_100.jpg', 'IDRiD_101.jpg', 'IDRiD_102.jpg', 'IDRiD_103.jpg', 'IDRiD_104.jpg', 'IDRiD_105.jpg', 'IDRiD_106.jpg', 'IDRiD_107.jpg', 'IDRiD_108.jpg', 'IDRiD_109.jpg', 'IDRiD_110.jpg', 'IDRiD_111.jpg', 'IDRiD_112.jpg', 'IDRiD_113.jpg', 'IDRiD_114.jpg', 'IDRiD_115.jpg', 'IDRiD_116.jpg', 'IDRiD_117.jpg', 'IDRiD_118.jpg', 'IDRiD_119.jpg', 'IDRiD_120.jpg', 'IDRiD_121.jpg', 'IDRiD_122.jpg', 'IDRiD_123.jpg', 'IDRiD_124.jpg', 'IDRiD_125.jpg', 'IDRiD_126.jpg', 'IDRiD_127.jpg', 'IDRiD_128.jpg', 'IDRiD_129.jpg', 'IDRiD_130.jpg', 'IDRiD_131.jpg', 'IDRiD_132.jpg', 'IDRiD_133.jpg', 'IDRiD_134.jpg', 'IDRiD_135.jpg', 'IDRiD_136.jpg', 'IDRiD_137.jpg', 'IDRiD_138.jpg', 'IDRiD_139.jpg', 'IDRiD_140.jpg', 'IDRiD_141.jpg', 'IDRiD_142.jpg', 'IDRiD_143.jpg', 'IDRiD_144.jpg', 'IDRiD_145.jpg', 'IDRiD_146.jpg', 'IDRiD_147.jpg', 'IDRiD_148.jpg', 'IDRiD_149.jpg', 'IDRiD_150.jpg', 'IDRiD_151.jpg', 'IDRiD_152.jpg', 'IDRiD_153.jpg', 'IDRiD_154.jpg', 'IDRiD_155.jpg', 'IDRiD_156.jpg', 'IDRiD_157.jpg', 'IDRiD_158.jpg', 'IDRiD_159.jpg', 'IDRiD_160.jpg', 'IDRiD_161.jpg', 'IDRiD_162.jpg', 'IDRiD_163.jpg', 'IDRiD_164.jpg', 'IDRiD_165.jpg', 'IDRiD_166.jpg', 'IDRiD_167.jpg', 'IDRiD_168.jpg', 'IDRiD_169.jpg', 'IDRiD_170.jpg', 'IDRiD_171.jpg', 'IDRiD_172.jpg', 'IDRiD_173.jpg', 'IDRiD_174.jpg', 'IDRiD_175.jpg', 'IDRiD_176.jpg', 'IDRiD_177.jpg', 'IDRiD_178.jpg', 'IDRiD_179.jpg', 'IDRiD_180.jpg', 'IDRiD_181.jpg', 'IDRiD_182.jpg', 'IDRiD_183.jpg', 'IDRiD_184.jpg', 'IDRiD_185.jpg', 'IDRiD_186.jpg', 'IDRiD_187.jpg', 'IDRiD_188.jpg', 'IDRiD_189.jpg', 'IDRiD_190.jpg', 'IDRiD_191.jpg', 'IDRiD_192.jpg', 'IDRiD_193.jpg', 'IDRiD_194.jpg', 'IDRiD_195.jpg', 'IDRiD_196.jpg', 'IDRiD_197.jpg', 'IDRiD_198.jpg', 'IDRiD_199.jpg', 'IDRiD_200.jpg', 'IDRiD_201.jpg', 'IDRiD_202.jpg', 'IDRiD_203.jpg', 'IDRiD_204.jpg', 'IDRiD_205.jpg', 'IDRiD_206.jpg', 'IDRiD_207.jpg', 'IDRiD_208.jpg', 'IDRiD_209.jpg', 'IDRiD_210.jpg', 'IDRiD_211.jpg', 'IDRiD_212.jpg', 'IDRiD_213.jpg', 'IDRiD_214.jpg', 'IDRiD_215.jpg', 'IDRiD_216.jpg', 'IDRiD_217.jpg', 'IDRiD_218.jpg', 'IDRiD_219.jpg', 'IDRiD_220.jpg', 'IDRiD_221.jpg', 'IDRiD_222.jpg', 'IDRiD_223.jpg', 'IDRiD_224.jpg', 'IDRiD_225.jpg', 'IDRiD_226.jpg', 'IDRiD_227.jpg', 'IDRiD_228.jpg', 'IDRiD_229.jpg', 'IDRiD_230.jpg', 'IDRiD_231.jpg', 'IDRiD_232.jpg', 'IDRiD_233.jpg', 'IDRiD_234.jpg', 'IDRiD_235.jpg', 'IDRiD_236.jpg', 'IDRiD_237.jpg', 'IDRiD_238.jpg', 'IDRiD_239.jpg', 'IDRiD_240.jpg', 'IDRiD_241.jpg', 'IDRiD_242.jpg', 'IDRiD_243.jpg', 'IDRiD_244.jpg', 'IDRiD_245.jpg', 'IDRiD_246.jpg', 'IDRiD_247.jpg', 'IDRiD_248.jpg', 'IDRiD_249.jpg', 'IDRiD_250.jpg', 'IDRiD_251.jpg', 'IDRiD_252.jpg', 'IDRiD_253.jpg', 'IDRiD_254.jpg', 'IDRiD_255.jpg', 'IDRiD_256.jpg', 'IDRiD_257.jpg', 'IDRiD_258.jpg', 'IDRiD_259.jpg', 'IDRiD_260.jpg', 'IDRiD_261.jpg', 'IDRiD_262.jpg', 'IDRiD_263.jpg', 'IDRiD_264.jpg', 'IDRiD_265.jpg', 'IDRiD_266.jpg', 'IDRiD_267.jpg', 'IDRiD_268.jpg', 'IDRiD_269.jpg', 'IDRiD_270.jpg', 'IDRiD_271.jpg', 'IDRiD_272.jpg', 'IDRiD_273.jpg', 'IDRiD_274.jpg', 'IDRiD_275.jpg', 'IDRiD_276.jpg', 'IDRiD_277.jpg', 'IDRiD_278.jpg', 'IDRiD_279.jpg', 'IDRiD_280.jpg', 'IDRiD_281.jpg', 'IDRiD_282.jpg', 'IDRiD_283.jpg', 'IDRiD_284.jpg', 'IDRiD_285.jpg', 'IDRiD_286.jpg', 'IDRiD_287.jpg', 'IDRiD_288.jpg', 'IDRiD_289.jpg', 'IDRiD_290.jpg', 'IDRiD_291.jpg', 'IDRiD_292.jpg', 'IDRiD_293.jpg', 'IDRiD_294.jpg', 'IDRiD_295.jpg', 'IDRiD_296.jpg', 'IDRiD_297.jpg', 'IDRiD_298.jpg', 'IDRiD_299.jpg', 'IDRiD_300.jpg', 'IDRiD_301.jpg', 'IDRiD_302.jpg', 'IDRiD_303.jpg', 'IDRiD_304.jpg', 'IDRiD_305.jpg', 'IDRiD_306.jpg', 'IDRiD_307.jpg', 'IDRiD_308.jpg', 'IDRiD_309.jpg', 'IDRiD_310.jpg', 'IDRiD_311.jpg', 'IDRiD_312.jpg', 'IDRiD_313.jpg', 'IDRiD_314.jpg', 'IDRiD_315.jpg', 'IDRiD_316.jpg', 'IDRiD_317.jpg', 'IDRiD_318.jpg', 'IDRiD_319.jpg', 'IDRiD_320.jpg', 'IDRiD_321.jpg', 'IDRiD_322.jpg', 'IDRiD_323.jpg', 'IDRiD_324.jpg', 'IDRiD_325.jpg', 'IDRiD_326.jpg', 'IDRiD_327.jpg', 'IDRiD_328.jpg', 'IDRiD_329.jpg', 'IDRiD_330.jpg', 'IDRiD_331.jpg', 'IDRiD_332.jpg', 'IDRiD_333.jpg', 'IDRiD_334.jpg', 'IDRiD_335.jpg', 'IDRiD_336.jpg', 'IDRiD_337.jpg', 'IDRiD_338.jpg', 'IDRiD_339.jpg', 'IDRiD_340.jpg', 'IDRiD_341.jpg', 'IDRiD_342.jpg', 'IDRiD_343.jpg', 'IDRiD_344.jpg', 'IDRiD_345.jpg', 'IDRiD_346.jpg', 'IDRiD_347.jpg', 'IDRiD_348.jpg', 'IDRiD_349.jpg', 'IDRiD_350.jpg', 'IDRiD_351.jpg', 'IDRiD_352.jpg', 'IDRiD_353.jpg', 'IDRiD_354.jpg', 'IDRiD_355.jpg', 'IDRiD_356.jpg', 'IDRiD_357.jpg', 'IDRiD_358.jpg', 'IDRiD_359.jpg', 'IDRiD_360.jpg', 'IDRiD_361.jpg', 'IDRiD_362.jpg', 'IDRiD_363.jpg', 'IDRiD_364.jpg', 'IDRiD_365.jpg', 'IDRiD_366.jpg', 'IDRiD_367.jpg', 'IDRiD_368.jpg', 'IDRiD_369.jpg', 'IDRiD_370.jpg', 'IDRiD_371.jpg', 'IDRiD_372.jpg', 'IDRiD_373.jpg', 'IDRiD_374.jpg', 'IDRiD_375.jpg', 'IDRiD_376.jpg', 'IDRiD_377.jpg', 'IDRiD_378.jpg', 'IDRiD_379.jpg', 'IDRiD_380.jpg', 'IDRiD_381.jpg', 'IDRiD_382.jpg', 'IDRiD_383.jpg', 'IDRiD_384.jpg', 'IDRiD_385.jpg', 'IDRiD_386.jpg', 'IDRiD_387.jpg', 'IDRiD_388.jpg', 'IDRiD_389.jpg', 'IDRiD_390.jpg', 'IDRiD_391.jpg', 'IDRiD_392.jpg', 'IDRiD_393.jpg', 'IDRiD_394.jpg', 'IDRiD_395.jpg', 'IDRiD_396.jpg', 'IDRiD_397.jpg', 'IDRiD_398.jpg', 'IDRiD_399.jpg', 'IDRiD_400.jpg', 'IDRiD_401.jpg', 'IDRiD_402.jpg', 'IDRiD_403.jpg', 'IDRiD_404.jpg', 'IDRiD_405.jpg', 'IDRiD_406.jpg', 'IDRiD_407.jpg', 'IDRiD_408.jpg', 'IDRiD_409.jpg', 'IDRiD_410.jpg', 'IDRiD_411.jpg', 'IDRiD_412.jpg', 'IDRiD_413.jpg']\n"
          ]
        }
      ]
    },
    {
      "cell_type": "code",
      "metadata": {
        "id": "xxhhuwcCQ_gQ",
        "colab": {
          "base_uri": "https://localhost:8080/"
        },
        "outputId": "8479c5cc-34d8-4759-8c37-9d6bd0cfa4f8"
      },
      "source": [
        "#gets all the file names for the test images\n",
        "fileNames_test = []\n",
        "for item in np.array(y_test):\n",
        "  fileNames_test.append(item[0] + \".jpg\")\n",
        "print(fileNames_test)"
      ],
      "execution_count": null,
      "outputs": [
        {
          "output_type": "stream",
          "name": "stdout",
          "text": [
            "['IDRiD_001.jpg', 'IDRiD_002.jpg', 'IDRiD_003.jpg', 'IDRiD_004.jpg', 'IDRiD_005.jpg', 'IDRiD_006.jpg', 'IDRiD_007.jpg', 'IDRiD_008.jpg', 'IDRiD_009.jpg', 'IDRiD_010.jpg', 'IDRiD_011.jpg', 'IDRiD_012.jpg', 'IDRiD_013.jpg', 'IDRiD_014.jpg', 'IDRiD_015.jpg', 'IDRiD_016.jpg', 'IDRiD_017.jpg', 'IDRiD_018.jpg', 'IDRiD_019.jpg', 'IDRiD_020.jpg', 'IDRiD_021.jpg', 'IDRiD_022.jpg', 'IDRiD_023.jpg', 'IDRiD_024.jpg', 'IDRiD_025.jpg', 'IDRiD_026.jpg', 'IDRiD_027.jpg', 'IDRiD_028.jpg', 'IDRiD_029.jpg', 'IDRiD_030.jpg', 'IDRiD_031.jpg', 'IDRiD_032.jpg', 'IDRiD_033.jpg', 'IDRiD_034.jpg', 'IDRiD_035.jpg', 'IDRiD_036.jpg', 'IDRiD_037.jpg', 'IDRiD_038.jpg', 'IDRiD_039.jpg', 'IDRiD_040.jpg', 'IDRiD_041.jpg', 'IDRiD_042.jpg', 'IDRiD_043.jpg', 'IDRiD_044.jpg', 'IDRiD_045.jpg', 'IDRiD_046.jpg', 'IDRiD_047.jpg', 'IDRiD_048.jpg', 'IDRiD_049.jpg', 'IDRiD_050.jpg', 'IDRiD_051.jpg', 'IDRiD_052.jpg', 'IDRiD_053.jpg', 'IDRiD_054.jpg', 'IDRiD_055.jpg', 'IDRiD_056.jpg', 'IDRiD_057.jpg', 'IDRiD_058.jpg', 'IDRiD_059.jpg', 'IDRiD_060.jpg', 'IDRiD_061.jpg', 'IDRiD_062.jpg', 'IDRiD_063.jpg', 'IDRiD_064.jpg', 'IDRiD_065.jpg', 'IDRiD_066.jpg', 'IDRiD_067.jpg', 'IDRiD_068.jpg', 'IDRiD_069.jpg', 'IDRiD_070.jpg', 'IDRiD_071.jpg', 'IDRiD_072.jpg', 'IDRiD_073.jpg', 'IDRiD_074.jpg', 'IDRiD_075.jpg', 'IDRiD_076.jpg', 'IDRiD_077.jpg', 'IDRiD_078.jpg', 'IDRiD_079.jpg', 'IDRiD_080.jpg', 'IDRiD_081.jpg', 'IDRiD_082.jpg', 'IDRiD_083.jpg', 'IDRiD_084.jpg', 'IDRiD_085.jpg', 'IDRiD_086.jpg', 'IDRiD_087.jpg', 'IDRiD_088.jpg', 'IDRiD_089.jpg', 'IDRiD_090.jpg', 'IDRiD_091.jpg', 'IDRiD_092.jpg', 'IDRiD_093.jpg', 'IDRiD_094.jpg', 'IDRiD_095.jpg', 'IDRiD_096.jpg', 'IDRiD_097.jpg', 'IDRiD_098.jpg', 'IDRiD_099.jpg', 'IDRiD_100.jpg', 'IDRiD_101.jpg', 'IDRiD_102.jpg', 'IDRiD_103.jpg']\n"
          ]
        }
      ]
    },
    {
      "cell_type": "code",
      "metadata": {
        "id": "NVOtn8kcaap9"
      },
      "source": [
        "#defines a function that converts image to grayscale version from the image path\n",
        "def convertToGrayscale(image_path):\n",
        "    grayScaleImages = []\n",
        "    img = Image.open(image_path)\n",
        "    imgGray = img.convert('L')\n",
        "    grayScaleImages.append(imgGray)\n",
        "    return grayScaleImages"
      ],
      "execution_count": null,
      "outputs": []
    },
    {
      "cell_type": "code",
      "metadata": {
        "id": "IKUlZ1f5bnf7"
      },
      "source": [
        "#plots 5 images using the grayscale function from training data\n",
        "grayScaleImages_array_train = []\n",
        "for i in range(5):\n",
        "  grayScaleImagesList_train = convertToGrayscale('/content/B. Disease Grading/1. Original Images/a. Training Set/' + fileNames_train[i])\n",
        "  grayScaleImages_array_train.append(grayScaleImagesList_train[0])\n",
        "  plt.imshow(grayScaleImages_array_train[i])\n",
        "  plt.show()\n",
        "  print()"
      ],
      "execution_count": null,
      "outputs": []
    },
    {
      "cell_type": "code",
      "source": [
        "model = Sequential()\n",
        "model.add(InceptionResNetV2(input_shape=(264,264,3),include_top=True,weights=None))\n",
        "model.add(Flatten())\n",
        "model.add(BatchNormalization())\n",
        "model.add(Dense(64,kernel_initializer='he_uniform'))\n",
        "model.add(BatchNormalization())\n",
        "model.add(Activation('relu'))\n",
        "model.add(Dropout(0.5))\n",
        "model.add(Dense(128,kernel_initializer='he_uniform'))\n",
        "model.add(BatchNormalization())\n",
        "model.add(Activation('relu'))\n",
        "model.add(Dropout(0.5))\n",
        "model.add(Dense(256,kernel_initializer='he_uniform'))\n",
        "model.add(BatchNormalization())\n",
        "model.add(Activation('relu'))\n",
        "model.add(Dropout(0.5))\n",
        "model.add(Dense(64,kernel_initializer='he_uniform'))\n",
        "model.add(BatchNormalization())\n",
        "model.add(Activation('relu'))\n",
        "model.add(Dropout(0.5))\n",
        "model.add(Dense(32,kernel_initializer='he_uniform'))\n",
        "model.add(BatchNormalization())\n",
        "model.add(Activation('relu'))\n",
        "model.add(Dropout(0.5))\n",
        "# Creating an output layer\n",
        "model.add(Dense(units= 5, activation='softmax'))\n",
        "\n",
        "c3=tf.keras.callbacks.ReduceLROnPlateau(\n",
        "    monitor=\"val_loss\",\n",
        "    factor=0.1,\n",
        "    patience=2,\n",
        "    mode=\"auto\",\n",
        "    min_delta=0.0001,\n",
        "    cooldown=0,\n",
        "    min_lr=0.001\n",
        ")\n",
        "model.compile(optimizer='adam',loss='categorical_crossentropy', metrics=['accuracy','AUC'])\n",
        "history=model.fit(X_test,y_test,epochs=20,batch_size=16,validation_split=0.2)"
      ],
      "metadata": {
        "colab": {
          "base_uri": "https://localhost:8080/",
          "height": 460
        },
        "id": "xTkK2J-rYVpP",
        "outputId": "e7dd6c37-2432-4847-f1a5-292760fbf515"
      },
      "execution_count": null,
      "outputs": [
        {
          "output_type": "error",
          "ename": "ValueError",
          "evalue": "ignored",
          "traceback": [
            "\u001b[0;31m---------------------------------------------------------------------------\u001b[0m",
            "\u001b[0;31mValueError\u001b[0m                                Traceback (most recent call last)",
            "\u001b[0;32m<ipython-input-45-f9fcf05811bf>\u001b[0m in \u001b[0;36m<module>\u001b[0;34m()\u001b[0m\n\u001b[1;32m     36\u001b[0m )\n\u001b[1;32m     37\u001b[0m \u001b[0mmodel\u001b[0m\u001b[0;34m.\u001b[0m\u001b[0mcompile\u001b[0m\u001b[0;34m(\u001b[0m\u001b[0moptimizer\u001b[0m\u001b[0;34m=\u001b[0m\u001b[0;34m'adam'\u001b[0m\u001b[0;34m,\u001b[0m\u001b[0mloss\u001b[0m\u001b[0;34m=\u001b[0m\u001b[0;34m'categorical_crossentropy'\u001b[0m\u001b[0;34m,\u001b[0m \u001b[0mmetrics\u001b[0m\u001b[0;34m=\u001b[0m\u001b[0;34m[\u001b[0m\u001b[0;34m'accuracy'\u001b[0m\u001b[0;34m,\u001b[0m\u001b[0;34m'AUC'\u001b[0m\u001b[0;34m]\u001b[0m\u001b[0;34m)\u001b[0m\u001b[0;34m\u001b[0m\u001b[0;34m\u001b[0m\u001b[0m\n\u001b[0;32m---> 38\u001b[0;31m \u001b[0mhistory\u001b[0m\u001b[0;34m=\u001b[0m\u001b[0mmodel\u001b[0m\u001b[0;34m.\u001b[0m\u001b[0mfit\u001b[0m\u001b[0;34m(\u001b[0m\u001b[0mX_test\u001b[0m\u001b[0;34m,\u001b[0m\u001b[0my_test\u001b[0m\u001b[0;34m,\u001b[0m\u001b[0mepochs\u001b[0m\u001b[0;34m=\u001b[0m\u001b[0;36m20\u001b[0m\u001b[0;34m,\u001b[0m\u001b[0mbatch_size\u001b[0m\u001b[0;34m=\u001b[0m\u001b[0;36m16\u001b[0m\u001b[0;34m,\u001b[0m\u001b[0mvalidation_split\u001b[0m\u001b[0;34m=\u001b[0m\u001b[0;36m0.2\u001b[0m\u001b[0;34m)\u001b[0m\u001b[0;34m\u001b[0m\u001b[0;34m\u001b[0m\u001b[0m\n\u001b[0m",
            "\u001b[0;32m/usr/local/lib/python3.7/dist-packages/keras/utils/traceback_utils.py\u001b[0m in \u001b[0;36merror_handler\u001b[0;34m(*args, **kwargs)\u001b[0m\n\u001b[1;32m     65\u001b[0m     \u001b[0;32mexcept\u001b[0m \u001b[0mException\u001b[0m \u001b[0;32mas\u001b[0m \u001b[0me\u001b[0m\u001b[0;34m:\u001b[0m  \u001b[0;31m# pylint: disable=broad-except\u001b[0m\u001b[0;34m\u001b[0m\u001b[0;34m\u001b[0m\u001b[0m\n\u001b[1;32m     66\u001b[0m       \u001b[0mfiltered_tb\u001b[0m \u001b[0;34m=\u001b[0m \u001b[0m_process_traceback_frames\u001b[0m\u001b[0;34m(\u001b[0m\u001b[0me\u001b[0m\u001b[0;34m.\u001b[0m\u001b[0m__traceback__\u001b[0m\u001b[0;34m)\u001b[0m\u001b[0;34m\u001b[0m\u001b[0;34m\u001b[0m\u001b[0m\n\u001b[0;32m---> 67\u001b[0;31m       \u001b[0;32mraise\u001b[0m \u001b[0me\u001b[0m\u001b[0;34m.\u001b[0m\u001b[0mwith_traceback\u001b[0m\u001b[0;34m(\u001b[0m\u001b[0mfiltered_tb\u001b[0m\u001b[0;34m)\u001b[0m \u001b[0;32mfrom\u001b[0m \u001b[0;32mNone\u001b[0m\u001b[0;34m\u001b[0m\u001b[0;34m\u001b[0m\u001b[0m\n\u001b[0m\u001b[1;32m     68\u001b[0m     \u001b[0;32mfinally\u001b[0m\u001b[0;34m:\u001b[0m\u001b[0;34m\u001b[0m\u001b[0;34m\u001b[0m\u001b[0m\n\u001b[1;32m     69\u001b[0m       \u001b[0;32mdel\u001b[0m \u001b[0mfiltered_tb\u001b[0m\u001b[0;34m\u001b[0m\u001b[0;34m\u001b[0m\u001b[0m\n",
            "\u001b[0;32m/usr/local/lib/python3.7/dist-packages/keras/engine/data_adapter.py\u001b[0m in \u001b[0;36m_check_data_cardinality\u001b[0;34m(data)\u001b[0m\n\u001b[1;32m   1651\u001b[0m                            for i in tf.nest.flatten(single_data)))\n\u001b[1;32m   1652\u001b[0m     \u001b[0mmsg\u001b[0m \u001b[0;34m+=\u001b[0m \u001b[0;34m\"Make sure all arrays contain the same number of samples.\"\u001b[0m\u001b[0;34m\u001b[0m\u001b[0;34m\u001b[0m\u001b[0m\n\u001b[0;32m-> 1653\u001b[0;31m     \u001b[0;32mraise\u001b[0m \u001b[0mValueError\u001b[0m\u001b[0;34m(\u001b[0m\u001b[0mmsg\u001b[0m\u001b[0;34m)\u001b[0m\u001b[0;34m\u001b[0m\u001b[0;34m\u001b[0m\u001b[0m\n\u001b[0m\u001b[1;32m   1654\u001b[0m \u001b[0;34m\u001b[0m\u001b[0m\n\u001b[1;32m   1655\u001b[0m \u001b[0;34m\u001b[0m\u001b[0m\n",
            "\u001b[0;31mValueError\u001b[0m: Data cardinality is ambiguous:\n  x sizes: 239, 239, 239, 239, 239, 239, 239, 239, 239, 239, 239, 239, 239, 239, 239, 239, 239, 239, 239, 239, 239, 239, 239, 239, 239, 239, 239, 239, 239, 239, 239, 239, 239, 239, 239, 239, 239, 239, 239, 239, 239, 239, 239, 239, 239, 239, 239, 239, 239, 239, 239, 239, 239, 239, 239, 239, 239, 239, 239, 239, 239, 239, 239, 239, 239, 239, 239, 239, 239, 239, 239, 239, 239, 239, 239, 239, 239, 239, 239, 239, 239, 239, 239, 239, 239, 239, 239, 239, 239, 239, 239, 239, 239, 239, 239, 239, 239, 239, 239, 239, 239, 239, 239\n  y sizes: 103\nMake sure all arrays contain the same number of samples."
          ]
        }
      ]
    },
    {
      "cell_type": "code",
      "source": [
        "model.summary()"
      ],
      "metadata": {
        "id": "ylxGy19dYViO"
      },
      "execution_count": null,
      "outputs": []
    },
    {
      "cell_type": "code",
      "source": [],
      "metadata": {
        "id": "KXRMb9U6YVaK"
      },
      "execution_count": null,
      "outputs": []
    },
    {
      "cell_type": "code",
      "metadata": {
        "id": "JFbtTre1c3PT"
      },
      "source": [
        "#creates a model using InceptionResNetV2 without dropout for DR and prints summary\n",
        "base_model_1 = InceptionResNetV2(include_top=False)\n",
        "base_model_1.trainable = False\n",
        "x = base_model_1.output\n",
        "x = GlobalAveragePooling2D()(x)\n",
        "new_layer_1 = Dense(10, activation = 'relu')(x)\n",
        "new_layer_1 = Dense(5, activation = 'softmax')(new_layer_1)\n",
        "model1=Model(inputs = base_model_1.inputs, outputs = new_layer_1)\n",
        "base_model_1.summary()"
      ],
      "execution_count": null,
      "outputs": []
    },
    {
      "cell_type": "code",
      "metadata": {
        "id": "faShfjJAYn2-"
      },
      "source": [
        "#creates a model using InceptionResNetV2 with dropout for DR and prints summary\n",
        "base_model_1_dropout = InceptionResNetV2(include_top=False)\n",
        "base_model_1_dropout.trainable = False\n",
        "x = base_model_1_dropout.output\n",
        "x = GlobalAveragePooling2D()(x)\n",
        "new_layer_1_dropout = Dense(10, activation = 'relu')(x)\n",
        "new_layer_1_dropout = Dropout(0.5)(new_layer_1_dropout)\n",
        "new_layer_1_dropout = Dense(5, activation = 'softmax')(new_layer_1_dropout)\n",
        "model1_dropout=Model(inputs = base_model_1_dropout.inputs, outputs = new_layer_1_dropout)\n",
        "base_model_1_dropout.summary()"
      ],
      "execution_count": null,
      "outputs": []
    },
    {
      "cell_type": "code",
      "metadata": {
        "id": "YIkswPJgWzsV"
      },
      "source": [
        "#creates a model using InceptionResNetV2 without dropout for DME and prints summary\n",
        "base_model_2 = InceptionResNetV2(include_top=False)\n",
        "base_model_2.trainable = False\n",
        "x = base_model_2.output\n",
        "x = GlobalAveragePooling2D()(x)\n",
        "new_layer_2 = Dense(10, activation = 'relu')(x)\n",
        "new_layer_2 = Dense(3, activation = 'softmax')(new_layer_2)\n",
        "model2=Model(inputs = base_model_2.inputs, outputs = new_layer_2)\n",
        "base_model_2.summary()"
      ],
      "execution_count": null,
      "outputs": []
    },
    {
      "cell_type": "code",
      "metadata": {
        "id": "ZCPlebzaYurJ"
      },
      "source": [
        "#creates a model using InceptionResNetV2 with dropout for DME and prints summary\n",
        "base_model_2_dropout = InceptionResNetV2(include_top=False)\n",
        "base_model_2_dropout.trainable = False\n",
        "x = base_model_2_dropout.output\n",
        "x = GlobalAveragePooling2D()(x)\n",
        "new_layer_2_dropout = Dense(10, activation = 'relu')(x)\n",
        "new_layer_2_dropout = Dropout(0.5)(new_layer_2_dropout)\n",
        "new_layer_2_dropout = Dense(3, activation = 'softmax')(new_layer_2_dropout)\n",
        "model2_dropout=Model(inputs = base_model_2_dropout.inputs, outputs = new_layer_2_dropout)\n",
        "base_model_2_dropout.summary()"
      ],
      "execution_count": null,
      "outputs": []
    },
    {
      "cell_type": "code",
      "metadata": {
        "id": "SMtI26KhZJ4v"
      },
      "source": [
        "#compiles all the models defined above\n",
        "model1.compile(loss = 'categorical_crossentropy', optimizer = 'adam', metrics = ['accuracy'])\n",
        "model1_dropout.compile(loss = 'categorical_crossentropy', optimizer = 'adam', metrics = ['accuracy'])\n",
        "model2.compile(loss = 'categorical_crossentropy', optimizer = 'adam', metrics = ['accuracy'])\n",
        "model2_dropout.compile(loss = 'categorical_crossentropy', optimizer = 'adam', metrics = ['accuracy'])"
      ],
      "execution_count": null,
      "outputs": []
    },
    {
      "cell_type": "code",
      "metadata": {
        "id": "R716ND44cUpS",
        "colab": {
          "base_uri": "https://localhost:8080/"
        },
        "outputId": "e2ca7b4c-7441-4ee8-a10d-5e16081fed24"
      },
      "source": [
        "#prints arrays with train and test values of DR\n",
        "DR_array_train = DR_array\n",
        "DR_array_test = []\n",
        "for item in np.array(y_test):\n",
        "  DR_array_test.append(item[1])\n",
        "print(DR_array_train)\n",
        "print(DR_array_test)"
      ],
      "execution_count": null,
      "outputs": [
        {
          "output_type": "stream",
          "name": "stdout",
          "text": [
            "[3, 3, 2, 3, 4, 4, 4, 4, 3, 4, 3, 3, 3, 4, 4, 2, 4, 2, 2, 2, 1, 4, 3, 4, 3, 3, 4, 4, 2, 4, 4, 4, 4, 3, 3, 3, 2, 2, 3, 3, 2, 2, 2, 2, 2, 4, 2, 2, 3, 2, 2, 2, 4, 4, 3, 2, 3, 2, 2, 2, 2, 4, 2, 2, 3, 3, 4, 2, 2, 4, 2, 2, 2, 2, 3, 2, 3, 2, 1, 2, 4, 2, 2, 2, 2, 4, 2, 3, 4, 4, 2, 2, 2, 2, 3, 4, 2, 3, 3, 4, 3, 2, 2, 4, 1, 2, 2, 3, 2, 3, 4, 3, 2, 3, 3, 2, 2, 0, 4, 2, 2, 2, 2, 2, 2, 2, 2, 2, 2, 2, 2, 2, 2, 2, 2, 2, 2, 0, 0, 0, 0, 0, 0, 0, 0, 0, 0, 0, 0, 0, 0, 0, 0, 0, 0, 0, 0, 0, 0, 0, 0, 0, 0, 0, 0, 0, 0, 0, 0, 0, 0, 0, 0, 0, 0, 0, 0, 4, 0, 3, 0, 0, 2, 0, 2, 2, 2, 2, 4, 0, 2, 3, 0, 1, 0, 2, 0, 1, 0, 0, 2, 0, 1, 0, 0, 0, 3, 2, 0, 0, 0, 0, 0, 0, 2, 2, 0, 0, 0, 0, 0, 0, 0, 4, 0, 0, 0, 0, 0, 0, 2, 2, 0, 0, 0, 2, 2, 0, 4, 4, 2, 2, 0, 0, 2, 4, 2, 2, 0, 0, 0, 2, 3, 4, 0, 1, 0, 0, 0, 2, 2, 2, 2, 0, 1, 1, 0, 0, 3, 2, 3, 4, 0, 0, 0, 0, 3, 3, 1, 2, 2, 2, 2, 2, 4, 4, 0, 0, 4, 1, 1, 0, 2, 2, 0, 3, 0, 0, 3, 2, 1, 1, 2, 1, 0, 3, 0, 3, 3, 2, 2, 0, 4, 3, 0, 0, 0, 0, 2, 3, 3, 2, 3, 3, 2, 2, 3, 2, 3, 3, 0, 2, 2, 3, 0, 0, 2, 2, 3, 2, 3, 0, 2, 3, 0, 0, 3, 2, 3, 2, 0, 0, 0, 3, 0, 3, 3, 0, 0, 2, 4, 4, 2, 3, 0, 3, 0, 3, 3, 0, 3, 3, 0, 2, 2, 3, 3, 0, 1, 3, 0, 0, 3, 3, 3, 0, 0, 1, 4, 4, 2, 4, 0, 4, 0, 0, 2, 2, 0, 0, 2, 1, 1, 2, 2, 0, 2, 1, 2, 2, 2, 2, 2]\n",
            "[4, 4, 4, 4, 4, 3, 3, 2, 2, 2, 2, 2, 3, 3, 2, 3, 2, 3, 2, 2, 3, 3, 2, 2, 3, 3, 3, 2, 0, 0, 3, 4, 2, 3, 3, 3, 0, 0, 0, 4, 0, 3, 0, 0, 0, 2, 0, 4, 2, 0, 2, 0, 4, 0, 0, 0, 4, 0, 2, 3, 4, 4, 1, 3, 2, 3, 2, 0, 0, 0, 0, 2, 1, 1, 0, 2, 0, 0, 2, 0, 2, 2, 2, 2, 1, 2, 4, 2, 2, 0, 2, 0, 0, 0, 0, 0, 0, 0, 0, 2, 1, 2, 0]\n"
          ]
        }
      ]
    },
    {
      "cell_type": "code",
      "metadata": {
        "id": "uIRgb6-Ph4Li",
        "colab": {
          "base_uri": "https://localhost:8080/"
        },
        "outputId": "e013a27d-b987-4ed8-b7f3-1bb41f24e29b"
      },
      "source": [
        "#prints arrays with train and test values of DME\n",
        "DME_array_train = DME_array\n",
        "DME_array_test = []\n",
        "for item in np.array(y_test):\n",
        "  DME_array_test.append(item[2])\n",
        "print(DME_array_train)\n",
        "print(DME_array_test)"
      ],
      "execution_count": null,
      "outputs": [
        {
          "output_type": "stream",
          "name": "stdout",
          "text": [
            "[2, 2, 2, 2, 0, 1, 0, 2, 2, 1, 1, 2, 0, 2, 2, 2, 2, 2, 2, 2, 0, 2, 2, 2, 2, 1, 2, 2, 2, 2, 2, 1, 2, 2, 2, 2, 1, 0, 2, 2, 2, 2, 0, 2, 0, 0, 2, 2, 2, 2, 2, 1, 2, 2, 2, 2, 2, 2, 2, 1, 0, 2, 2, 2, 0, 2, 1, 1, 2, 0, 2, 2, 1, 2, 2, 2, 2, 2, 0, 1, 2, 2, 2, 2, 2, 2, 2, 2, 2, 2, 2, 2, 1, 1, 2, 2, 1, 2, 2, 2, 2, 2, 2, 2, 0, 2, 2, 1, 2, 2, 2, 2, 2, 2, 2, 2, 2, 0, 2, 0, 2, 2, 2, 2, 2, 2, 2, 2, 2, 2, 1, 2, 0, 2, 1, 1, 1, 0, 0, 0, 0, 0, 0, 0, 0, 0, 0, 0, 0, 0, 0, 0, 0, 0, 0, 0, 0, 0, 0, 0, 0, 0, 0, 0, 0, 0, 0, 0, 0, 0, 0, 0, 0, 0, 0, 0, 0, 2, 0, 2, 0, 0, 2, 0, 2, 2, 1, 1, 2, 0, 0, 2, 0, 0, 0, 2, 0, 0, 0, 0, 0, 0, 0, 0, 0, 0, 2, 2, 0, 0, 0, 0, 0, 0, 1, 1, 0, 0, 0, 0, 0, 0, 0, 2, 0, 0, 0, 0, 0, 0, 2, 2, 0, 0, 0, 2, 2, 0, 2, 2, 2, 2, 0, 0, 2, 2, 2, 2, 0, 0, 0, 1, 1, 2, 0, 0, 0, 0, 0, 2, 2, 1, 1, 0, 0, 0, 0, 0, 0, 1, 2, 2, 0, 0, 0, 0, 2, 2, 0, 2, 2, 1, 2, 2, 2, 2, 0, 0, 2, 0, 0, 0, 2, 2, 0, 2, 0, 0, 2, 2, 0, 0, 1, 0, 0, 2, 0, 2, 2, 2, 0, 0, 2, 2, 0, 0, 0, 0, 2, 2, 2, 2, 2, 2, 2, 2, 2, 2, 2, 2, 0, 2, 1, 2, 0, 0, 2, 2, 2, 1, 2, 0, 2, 2, 0, 0, 2, 2, 2, 2, 0, 0, 0, 2, 0, 2, 2, 0, 0, 2, 2, 2, 1, 2, 0, 2, 0, 2, 2, 0, 2, 2, 0, 1, 1, 2, 2, 0, 0, 2, 0, 0, 2, 2, 2, 0, 0, 0, 2, 2, 0, 2, 0, 2, 0, 0, 0, 1, 0, 0, 1, 0, 0, 0, 1, 0, 1, 0, 1, 0, 0, 0, 0]\n",
            "[0, 1, 0, 0, 1, 1, 0, 2, 2, 2, 2, 2, 2, 2, 2, 2, 2, 2, 2, 2, 2, 2, 2, 2, 2, 2, 2, 2, 0, 0, 1, 1, 2, 2, 2, 2, 0, 0, 0, 1, 0, 1, 0, 0, 0, 1, 0, 2, 2, 0, 2, 0, 2, 0, 0, 0, 2, 0, 2, 0, 2, 2, 0, 0, 2, 2, 2, 0, 0, 0, 0, 2, 0, 0, 0, 1, 0, 0, 2, 0, 2, 2, 2, 2, 0, 2, 2, 2, 2, 0, 2, 0, 0, 0, 0, 0, 0, 0, 0, 1, 0, 2, 0]\n"
          ]
        }
      ]
    },
    {
      "cell_type": "code",
      "metadata": {
        "id": "BEqKwxhpcoSk"
      },
      "source": [
        "#converts all variables involved in training to arrays\n",
        "X_train = np.asarray(X_train).astype(np.float32)\n",
        "X_test = np.asarray(X_test).astype(np.float32)\n",
        "DR_array_train = np.asarray(DR_array_train).astype(np.float32)\n",
        "DR_array_test = np.asarray(DR_array_test).astype(np.float32)\n",
        "DME_array_train = np.asarray(DME_array_train).astype(np.float32)\n",
        "DME_array_test = np.asarray(DME_array_test).astype(np.float32)"
      ],
      "execution_count": null,
      "outputs": []
    },
    {
      "cell_type": "code",
      "metadata": {
        "id": "yTBtHYXHcV9V"
      },
      "source": [
        "#creates one hot encoded vectors for DR\n",
        "one_hot_encoded_vectors_train = tf.keras.utils.to_categorical(DR_array_train)\n",
        "one_hot_encoded_vectors_test = tf.keras.utils.to_categorical(DR_array_test)"
      ],
      "execution_count": null,
      "outputs": []
    },
    {
      "cell_type": "code",
      "metadata": {
        "id": "xAVfy09xiMMr"
      },
      "source": [
        "#creates one hot encoded vectors for DME\n",
        "one_hot_encoded_vectors_train_DME = tf.keras.utils.to_categorical(DME_array_train)\n",
        "one_hot_encoded_vectors_test_DME = tf.keras.utils.to_categorical(DME_array_test)"
      ],
      "execution_count": null,
      "outputs": []
    },
    {
      "cell_type": "code",
      "metadata": {
        "id": "M8rbkCOTcrEO",
        "colab": {
          "base_uri": "https://localhost:8080/"
        },
        "outputId": "73ee8f66-96ef-42b6-d928-9ba4ddc2769a"
      },
      "source": [
        "#initializes all variables\n",
        "tf.compat.v1.initialize_all_variables()"
      ],
      "execution_count": null,
      "outputs": [
        {
          "output_type": "stream",
          "name": "stdout",
          "text": [
            "WARNING:tensorflow:From /usr/local/lib/python3.7/dist-packages/tensorflow/python/util/tf_should_use.py:243: initialize_all_variables (from tensorflow.python.ops.variables) is deprecated and will be removed after 2017-03-02.\n",
            "Instructions for updating:\n",
            "Use `tf.global_variables_initializer` instead.\n"
          ]
        }
      ]
    },
    {
      "cell_type": "code",
      "metadata": {
        "id": "QQu4agvhZhIh",
        "colab": {
          "base_uri": "https://localhost:8080/"
        },
        "outputId": "b35937c8-6dbe-450e-cf66-345a3d009cbf"
      },
      "source": [
        "#trains model for DR without dropout\n",
        "model1.fit(X_train, one_hot_encoded_vectors_train, validation_data=(X_test, one_hot_encoded_vectors_test), epochs = 10)"
      ],
      "execution_count": null,
      "outputs": [
        {
          "output_type": "stream",
          "name": "stdout",
          "text": [
            "Epoch 1/10\n",
            "13/13 [==============================] - 45s 2s/step - loss: 60.9903 - accuracy: 0.0799 - val_loss: 11.4957 - val_accuracy: 0.1456\n",
            "Epoch 2/10\n",
            "13/13 [==============================] - 12s 945ms/step - loss: 11.7605 - accuracy: 0.1162 - val_loss: 1.9267 - val_accuracy: 0.0680\n",
            "Epoch 3/10\n",
            "13/13 [==============================] - 12s 944ms/step - loss: 1.6112 - accuracy: 0.3123 - val_loss: 1.5985 - val_accuracy: 0.3107\n",
            "Epoch 4/10\n",
            "13/13 [==============================] - 12s 944ms/step - loss: 1.5968 - accuracy: 0.3293 - val_loss: 1.5959 - val_accuracy: 0.3107\n",
            "Epoch 5/10\n",
            "13/13 [==============================] - 12s 943ms/step - loss: 1.5941 - accuracy: 0.3293 - val_loss: 1.5933 - val_accuracy: 0.3107\n",
            "Epoch 6/10\n",
            "13/13 [==============================] - 12s 943ms/step - loss: 1.5912 - accuracy: 0.3293 - val_loss: 1.5907 - val_accuracy: 0.3107\n",
            "Epoch 7/10\n",
            "13/13 [==============================] - 12s 942ms/step - loss: 1.5885 - accuracy: 0.3293 - val_loss: 1.5879 - val_accuracy: 0.3107\n",
            "Epoch 8/10\n",
            "13/13 [==============================] - 12s 941ms/step - loss: 1.5856 - accuracy: 0.3293 - val_loss: 1.5850 - val_accuracy: 0.3107\n",
            "Epoch 9/10\n",
            "13/13 [==============================] - 12s 942ms/step - loss: 1.5826 - accuracy: 0.3293 - val_loss: 1.5822 - val_accuracy: 0.3107\n",
            "Epoch 10/10\n",
            "13/13 [==============================] - 12s 945ms/step - loss: 1.5795 - accuracy: 0.2978 - val_loss: 1.5793 - val_accuracy: 0.3301\n"
          ]
        },
        {
          "output_type": "execute_result",
          "data": {
            "text/plain": [
              "<keras.callbacks.History at 0x7f3a63506b90>"
            ]
          },
          "metadata": {},
          "execution_count": 26
        }
      ]
    },
    {
      "cell_type": "code",
      "metadata": {
        "id": "_5vrptNYZkaG",
        "colab": {
          "base_uri": "https://localhost:8080/"
        },
        "outputId": "4d74871f-ac4b-4e22-ded5-2e65193fe35e"
      },
      "source": [
        "#trains model for DR with dropout\n",
        "model1_dropout.fit(X_train, one_hot_encoded_vectors_train, validation_data=(X_test, one_hot_encoded_vectors_test), epochs = 10)"
      ],
      "execution_count": null,
      "outputs": [
        {
          "output_type": "stream",
          "name": "stdout",
          "text": [
            "Epoch 1/10\n",
            "13/13 [==============================] - 28s 1s/step - loss: 17.2337 - accuracy: 0.2615 - val_loss: 1.6073 - val_accuracy: 0.3301\n",
            "Epoch 2/10\n",
            "13/13 [==============================] - 12s 947ms/step - loss: 1.6051 - accuracy: 0.3245 - val_loss: 1.6025 - val_accuracy: 0.3301\n",
            "Epoch 3/10\n",
            "13/13 [==============================] - 12s 947ms/step - loss: 1.6000 - accuracy: 0.3245 - val_loss: 1.5974 - val_accuracy: 0.3301\n",
            "Epoch 4/10\n",
            "13/13 [==============================] - 12s 945ms/step - loss: 1.5946 - accuracy: 0.3245 - val_loss: 1.5925 - val_accuracy: 0.3301\n",
            "Epoch 5/10\n",
            "13/13 [==============================] - 12s 946ms/step - loss: 1.5897 - accuracy: 0.3245 - val_loss: 1.5876 - val_accuracy: 0.3301\n",
            "Epoch 6/10\n",
            "13/13 [==============================] - 12s 943ms/step - loss: 1.5846 - accuracy: 0.3245 - val_loss: 1.5829 - val_accuracy: 0.3301\n",
            "Epoch 7/10\n",
            "13/13 [==============================] - 12s 944ms/step - loss: 1.5798 - accuracy: 0.3245 - val_loss: 1.5783 - val_accuracy: 0.3301\n",
            "Epoch 8/10\n",
            "13/13 [==============================] - 12s 943ms/step - loss: 1.5750 - accuracy: 0.3245 - val_loss: 1.5741 - val_accuracy: 0.3301\n",
            "Epoch 9/10\n",
            "13/13 [==============================] - 12s 943ms/step - loss: 1.5706 - accuracy: 0.3245 - val_loss: 1.5699 - val_accuracy: 0.3301\n",
            "Epoch 10/10\n",
            "13/13 [==============================] - 12s 952ms/step - loss: 1.5663 - accuracy: 0.3245 - val_loss: 1.5657 - val_accuracy: 0.3301\n"
          ]
        },
        {
          "output_type": "execute_result",
          "data": {
            "text/plain": [
              "<keras.callbacks.History at 0x7f39f1d94f90>"
            ]
          },
          "metadata": {},
          "execution_count": 27
        }
      ]
    },
    {
      "cell_type": "code",
      "metadata": {
        "id": "sE7hbJs7Zl6c",
        "colab": {
          "base_uri": "https://localhost:8080/"
        },
        "outputId": "5e4107ac-a0a2-419d-c20b-14fcc8367e87"
      },
      "source": [
        "#trains model for DME without dropout\n",
        "model2.fit(X_train, one_hot_encoded_vectors_train_DME, validation_data=(X_test, one_hot_encoded_vectors_test_DME), epochs = 10)"
      ],
      "execution_count": null,
      "outputs": [
        {
          "output_type": "stream",
          "name": "stdout",
          "text": [
            "Epoch 1/10\n",
            "13/13 [==============================] - 28s 1s/step - loss: 27.7808 - accuracy: 0.2857 - val_loss: 20.5203 - val_accuracy: 0.4369\n",
            "Epoch 2/10\n",
            "13/13 [==============================] - 12s 946ms/step - loss: 8.9589 - accuracy: 0.2712 - val_loss: 1.0956 - val_accuracy: 0.4660\n",
            "Epoch 3/10\n",
            "13/13 [==============================] - 12s 945ms/step - loss: 1.0941 - accuracy: 0.4722 - val_loss: 1.0926 - val_accuracy: 0.4660\n",
            "Epoch 4/10\n",
            "13/13 [==============================] - 12s 942ms/step - loss: 1.0913 - accuracy: 0.4722 - val_loss: 1.0899 - val_accuracy: 0.4660\n",
            "Epoch 5/10\n",
            "13/13 [==============================] - 12s 943ms/step - loss: 1.0886 - accuracy: 0.4722 - val_loss: 1.0871 - val_accuracy: 0.4660\n",
            "Epoch 6/10\n",
            "13/13 [==============================] - 12s 942ms/step - loss: 1.0858 - accuracy: 0.4722 - val_loss: 1.0842 - val_accuracy: 0.4660\n",
            "Epoch 7/10\n",
            "13/13 [==============================] - 12s 941ms/step - loss: 1.0829 - accuracy: 0.4722 - val_loss: 1.0814 - val_accuracy: 0.4660\n",
            "Epoch 8/10\n",
            "13/13 [==============================] - 12s 942ms/step - loss: 1.0801 - accuracy: 0.4722 - val_loss: 1.0783 - val_accuracy: 0.4660\n",
            "Epoch 9/10\n",
            "13/13 [==============================] - 12s 941ms/step - loss: 1.0770 - accuracy: 0.4722 - val_loss: 1.0753 - val_accuracy: 0.4660\n",
            "Epoch 10/10\n",
            "13/13 [==============================] - 12s 944ms/step - loss: 1.0739 - accuracy: 0.4722 - val_loss: 1.0723 - val_accuracy: 0.4660\n"
          ]
        },
        {
          "output_type": "execute_result",
          "data": {
            "text/plain": [
              "<keras.callbacks.History at 0x7f39f1d9c250>"
            ]
          },
          "metadata": {},
          "execution_count": 28
        }
      ]
    },
    {
      "cell_type": "code",
      "metadata": {
        "id": "8mR0FdGwZmpg",
        "colab": {
          "base_uri": "https://localhost:8080/"
        },
        "outputId": "0cc7cee6-b3fd-432f-f058-15213c10db4f"
      },
      "source": [
        "#trains model for DME with dropout\n",
        "model2_dropout.fit(X_train, one_hot_encoded_vectors_train_DME, validation_data=(X_test, one_hot_encoded_vectors_test_DME), epochs = 10)"
      ],
      "execution_count": null,
      "outputs": [
        {
          "output_type": "stream",
          "name": "stdout",
          "text": [
            "Epoch 1/10\n",
            "13/13 [==============================] - 29s 1s/step - loss: 9.8636 - accuracy: 0.2736 - val_loss: 1.0987 - val_accuracy: 0.0971\n",
            "Epoch 2/10\n",
            "13/13 [==============================] - 12s 958ms/step - loss: 1.0967 - accuracy: 0.3947 - val_loss: 1.0942 - val_accuracy: 0.4660\n",
            "Epoch 3/10\n",
            "13/13 [==============================] - 12s 945ms/step - loss: 1.0921 - accuracy: 0.4019 - val_loss: 1.0892 - val_accuracy: 0.4660\n",
            "Epoch 4/10\n",
            "13/13 [==============================] - 12s 943ms/step - loss: 1.0871 - accuracy: 0.4722 - val_loss: 1.0843 - val_accuracy: 0.4660\n",
            "Epoch 5/10\n",
            "13/13 [==============================] - 12s 944ms/step - loss: 1.0821 - accuracy: 0.4722 - val_loss: 1.0796 - val_accuracy: 0.4660\n",
            "Epoch 6/10\n",
            "13/13 [==============================] - 12s 944ms/step - loss: 1.0776 - accuracy: 0.4722 - val_loss: 1.0749 - val_accuracy: 0.4660\n",
            "Epoch 7/10\n",
            "13/13 [==============================] - 12s 943ms/step - loss: 1.0731 - accuracy: 0.4722 - val_loss: 1.0703 - val_accuracy: 0.4660\n",
            "Epoch 8/10\n",
            "13/13 [==============================] - 12s 943ms/step - loss: 1.0685 - accuracy: 0.4722 - val_loss: 1.0660 - val_accuracy: 0.4660\n",
            "Epoch 9/10\n",
            "13/13 [==============================] - 12s 944ms/step - loss: 1.0644 - accuracy: 0.4722 - val_loss: 1.0616 - val_accuracy: 0.4660\n",
            "Epoch 10/10\n",
            "13/13 [==============================] - 12s 942ms/step - loss: 1.0602 - accuracy: 0.4722 - val_loss: 1.0576 - val_accuracy: 0.4660\n"
          ]
        },
        {
          "output_type": "execute_result",
          "data": {
            "text/plain": [
              "<keras.callbacks.History at 0x7f39eec21c90>"
            ]
          },
          "metadata": {},
          "execution_count": 29
        }
      ]
    },
    {
      "cell_type": "code",
      "metadata": {
        "id": "E369JE7HaK0C",
        "colab": {
          "base_uri": "https://localhost:8080/"
        },
        "outputId": "9d1fad53-5145-42d0-cc45-a920e439b79c"
      },
      "source": [
        "#stores the loss and accuracy of each model in variables\n",
        "model1_accuracy = model1.evaluate(X_test, one_hot_encoded_vectors_test)\n",
        "model1_dropout_accuracy = model1_dropout.evaluate(X_test, one_hot_encoded_vectors_test)\n",
        "model2_accuracy = model2.evaluate(X_test, one_hot_encoded_vectors_test_DME)\n",
        "model2_dropout_accuracy = model2_dropout.evaluate(X_test, one_hot_encoded_vectors_test_DME)"
      ],
      "execution_count": null,
      "outputs": [
        {
          "output_type": "stream",
          "name": "stdout",
          "text": [
            "4/4 [==============================] - 3s 571ms/step - loss: 1.5793 - accuracy: 0.3301\n",
            "4/4 [==============================] - 2s 577ms/step - loss: 1.5657 - accuracy: 0.3301\n",
            "4/4 [==============================] - 2s 578ms/step - loss: 1.0723 - accuracy: 0.4660\n",
            "4/4 [==============================] - 2s 578ms/step - loss: 1.0576 - accuracy: 0.4660\n"
          ]
        }
      ]
    },
    {
      "cell_type": "code",
      "metadata": {
        "id": "eXSr-EEha7s2"
      },
      "source": [
        "#creates lists for the x-axis holding the names of all the models and y-axis with the validation accuracy for each\n",
        "Models = ['Model1', 'Model1_Dropout', 'Model2', 'Model2_Dropout']\n",
        "Models_test_accuracy = [model1_accuracy[1], model1_dropout_accuracy[1], model2_accuracy[1], model2_dropout_accuracy[1]]"
      ],
      "execution_count": null,
      "outputs": []
    },
    {
      "cell_type": "code",
      "metadata": {
        "id": "vDihftvZhtoJ",
        "colab": {
          "base_uri": "https://localhost:8080/",
          "height": 296
        },
        "outputId": "374c02f6-9605-4845-b7ae-647ec9427e8f"
      },
      "source": [
        "#plots a bar graph with axes defines above\n",
        "plt.bar(Models, Models_test_accuracy)\n",
        "plt.xlabel(\"Models\")\n",
        "plt.ylabel(\"Level of accuracy\")\n",
        "plt.title(\"Accuracy achieved by different models\")\n",
        "plt.show()"
      ],
      "execution_count": null,
      "outputs": [
        {
          "output_type": "display_data",
          "data": {
            "image/png": "[encoded data removed]",
            "text/plain": [
              "<Figure size 432x288 with 1 Axes>"
            ]
          },
          "metadata": {
            "needs_background": "light"
          }
        }
      ]
    },
    {
      "cell_type": "code",
      "source": [
        "(X_train, y_train), (X_test, y_test) = imdb.load_data(num_words=10000)"
      ],
      "metadata": {
        "id": "4-6Y-M9rW0X1"
      },
      "execution_count": null,
      "outputs": []
    },
    {
      "cell_type": "code",
      "source": [],
      "metadata": {
        "id": "PRbHK3DKVH9D"
      },
      "execution_count": null,
      "outputs": []
    }
  ]
}